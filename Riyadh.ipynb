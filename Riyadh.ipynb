{
 "cells": [
  {
   "cell_type": "markdown",
   "metadata": {},
   "source": [
    "## Import library"
   ]
  },
  {
   "cell_type": "code",
   "execution_count": null,
   "metadata": {},
   "outputs": [],
   "source": [
    "import numpy as np\n",
    "import pandas as pd\n",
    "import matplotlib.pyplot as plt\n",
    "import seaborn as sns\n",
    "import plotly.express as px "
   ]
  },
  {
   "cell_type": "markdown",
   "metadata": {},
   "source": [
    "## Read and Show Data"
   ]
  },
  {
   "cell_type": "code",
   "execution_count": null,
   "metadata": {},
   "outputs": [],
   "source": [
    "RYD = pd.read_csv('RiyadhVillasAqar.csv')"
   ]
  },
  {
   "cell_type": "code",
   "execution_count": null,
   "metadata": {},
   "outputs": [],
   "source": [
    "RYD"
   ]
  },
  {
   "cell_type": "markdown",
   "metadata": {},
   "source": [
    "## EDA"
   ]
  },
  {
   "cell_type": "code",
   "execution_count": null,
   "metadata": {},
   "outputs": [],
   "source": [
    "RYD.info()"
   ]
  },
  {
   "cell_type": "code",
   "execution_count": null,
   "metadata": {},
   "outputs": [],
   "source": [
    "RYD['lounges']=RYD['lounges'].str.replace('+', '').astype(float)\n",
    "RYD['bathrooms']=RYD['bathrooms'].str.replace('+', '').astype(float)\n",
    "RYD['apartments']=RYD['apartments'].str.replace('+', '').astype(float) "
   ]
  },
  {
   "cell_type": "code",
   "execution_count": null,
   "metadata": {},
   "outputs": [],
   "source": [
    "RYD['apartments'].fillna(0, inplace=True) "
   ]
  },
  {
   "cell_type": "code",
   "execution_count": null,
   "metadata": {},
   "outputs": [],
   "source": [
    "RYD.duplicated().value_counts()"
   ]
  },
  {
   "cell_type": "code",
   "execution_count": null,
   "metadata": {},
   "outputs": [],
   "source": [
    "RYD.drop(['Unnamed: 0'],axis=1,inplace=True)"
   ]
  },
  {
   "cell_type": "code",
   "execution_count": null,
   "metadata": {},
   "outputs": [],
   "source": [
    "RYD.isna().sum()"
   ]
  },
  {
   "cell_type": "code",
   "execution_count": null,
   "metadata": {},
   "outputs": [],
   "source": [
    "RYD['lounges'].fillna(RYD['lounges'].median(), inplace= True) \n",
    "RYD['streetWidth'].fillna(RYD['streetWidth'].median(), inplace= True)"
   ]
  },
  {
   "cell_type": "code",
   "execution_count": null,
   "metadata": {},
   "outputs": [],
   "source": [
    "RYD.describe().T"
   ]
  },
  {
   "cell_type": "code",
   "execution_count": null,
   "metadata": {},
   "outputs": [],
   "source": [
    "RYD.dropna(inplace=True)"
   ]
  },
  {
   "cell_type": "code",
   "execution_count": null,
   "metadata": {},
   "outputs": [],
   "source": [
    "RYD.isna().sum()"
   ]
  },
  {
   "cell_type": "markdown",
   "metadata": {},
   "source": [
    "## Data Visualization"
   ]
  },
  {
   "cell_type": "code",
   "execution_count": null,
   "metadata": {},
   "outputs": [],
   "source": [
    "x = RYD.select_dtypes(include=['number'])\n",
    "plt.figure(figsize=(25, 20))\n",
    "sns.heatmap(np.abs(x.corr()), annot=True, cmap=\"Blues\")\n",
    "plt.title(\"Correlation Heatmap\")\n",
    "plt.show()"
   ]
  },
  {
   "cell_type": "code",
   "execution_count": null,
   "metadata": {},
   "outputs": [],
   "source": [
    "fig = px.scatter(RYD, x='neighbourhood', y='price')\n",
    "fig.update_layout(title='Price by Neighbourhood',title_x=0.5,title_font=dict(size=24))\n",
    "fig.update_xaxes(title='neighbourhood', title_font=dict(size=18))\n",
    "fig.update_yaxes(title='Price', title_font=dict(size=18))\n",
    "fig.update_xaxes(tickangle=90)\n",
    "fig.show()"
   ]
  },
  {
   "cell_type": "code",
   "execution_count": null,
   "metadata": {},
   "outputs": [],
   "source": [
    "plt.figure(figsize=(8, 6))\n",
    "fig = px.violin(data_frame=RYD ,x=RYD['duplex'], y=RYD['price'], color=RYD['location'] )\n",
    "fig.update_layout(title='dublex and others price',title_x=0.5,title_font=dict(size=24))\n",
    "fig.update_xaxes(title='Price', title_font=dict(size=18))\n",
    "fig.update_yaxes(title='type of property', title_font=dict(size=18))\n",
    "fig.show()"
   ]
  },
  {
   "cell_type": "code",
   "execution_count": null,
   "metadata": {},
   "outputs": [],
   "source": [
    "plt.figure(figsize=(6,3))\n",
    "x = RYD.groupby(['location','pool']).mean('price').reset_index()\n",
    "fig = px.bar(x, x='location',y='price')\n",
    "fig.update_layout(title='Price Average with pool',title_x=0.5,title_font=dict(size=24))\n",
    "fig.update_xaxes(title='location', title_font=dict(size=18))\n",
    "fig.update_yaxes(title='price avarage', title_font=dict(size=18))\n",
    "fig.show()"
   ]
  },
  {
   "cell_type": "code",
   "execution_count": null,
   "metadata": {},
   "outputs": [],
   "source": [
    "x = RYD.groupby('propertyAge')['price'].mean().reset_index()\n",
    "fig = px.line(x, x='propertyAge', y='price')\n",
    "fig.update_layout(title='Real Estate Age and Average Price',title_x=0.5,title_font=dict(size=24))\n",
    "fig.update_xaxes(title='Property Age', title_font=dict(size=18))\n",
    "fig.update_yaxes(title='Price', title_font=dict(size=18))\n",
    "fig.show()"
   ]
  },
  {
   "cell_type": "code",
   "execution_count": null,
   "metadata": {},
   "outputs": [],
   "source": [
    "fig = px.histogram(RYD,x=RYD['neighbourhood'],y=RYD['price'])\n",
    "fig.update_layout(title='Neighbourhood Prices',title_x=0.5,title_font=dict(size=24))\n",
    "fig.update_xaxes(title='Neighbourhoods', title_font=dict(size=18))\n",
    "fig.update_yaxes(title='sum of the price', title_font=dict(size=18))\n",
    "fig.show()"
   ]
  },
  {
   "cell_type": "code",
   "execution_count": null,
   "metadata": {},
   "outputs": [],
   "source": [
    "plt.figure(figsize=(8, 6))\n",
    "fig = px.ecdf(data_frame = RYD ,x='front',y='price', color='duplex')\n",
    "fig.update_layout(title='propertys types and it is relation with the front',title_x=0.5,title_font=dict(size=24))\n",
    "fig.update_xaxes(title='front', title_font=dict(size=18))\n",
    "fig.update_yaxes(title='price', title_font=dict(size=18))\n",
    "fig.show()"
   ]
  },
  {
   "cell_type": "code",
   "execution_count": null,
   "metadata": {},
   "outputs": [],
   "source": [
    "plt.figure(figsize=(15, 10))\n",
    "fig = px.scatter(data_frame = RYD , x = \"location\" , y = 'propertyAge',size=\"space\",size_max=60)\n",
    "fig.update_layout(title='propertys size and it is relation with age and location',title_x=0.5,title_font=dict(size=24))\n",
    "fig.update_yaxes(title='Property Age', title_font=dict(size=18))\n",
    "fig.show()"
   ]
  },
  {
   "cell_type": "code",
   "execution_count": null,
   "metadata": {},
   "outputs": [],
   "source": [
    "RYD['pool_basement_combination'] = RYD['pool'].astype(str) + '_' + RYD['basement'].astype(str)\n",
    "RYD['pool_basement_combination'] = RYD['pool_basement_combination'].map({'0.0_0.0': 'neither', '1.0_0.0': 'pool without basment','0.0_1.0' : 'basment without pool','1.0_1.0':'pool and basement'})\n",
    "\n",
    "comb = RYD['pool_basement_combination'].value_counts()\n",
    "\n",
    "fig = px.pie(comb, names=comb.index, values=comb.values)\n",
    "fig.update_layout(title='pie plot shows the popularity of pools and basements',title_x=0.5,title_font=dict(size=24))\n",
    "fig.show()\n",
    "RYD.drop(['pool_basement_combination'],axis=1,inplace=True)"
   ]
  },
  {
   "cell_type": "code",
   "execution_count": null,
   "metadata": {},
   "outputs": [],
   "source": [
    "fig = px.scatter_3d(RYD, x='neighbourhood', y='space', z = 'price')\n",
    "fig.update_layout(title='3D scatter',title_x=0.5,title_font=dict(size=24))\n",
    "fig.show()"
   ]
  },
  {
   "cell_type": "code",
   "execution_count": null,
   "metadata": {},
   "outputs": [],
   "source": [
    "'''\n",
    "loc = ['وسط الرياض' , 'جنوب الرياض' , 'شمال الرياض' , 'شرق الرياض' , 'غرب الرياض']\n",
    "flat = [24.66835421558959 , 24.591065047160967 , 24.835434844497765 , 24.779778660959817 , 24.65360806573126]\n",
    "flon = [46.72966953410291 , 46.764068844974204 , 46.649106402075496 , 46.828973205108724 , 46.573250026178705]\n",
    "\n",
    "\n",
    "\n",
    "lat = []\n",
    "lon = []\n",
    "for city in RYD[\"location\"]:\n",
    "    for i in range(len(loc)):\n",
    "        if loc[i] == city:\n",
    "            lat.append(flat[i])\n",
    "            lon.append(flon[i])\n",
    "RYD[\"lat\"] = lat\n",
    "RYD[\"lon\"] = lon\n",
    "'''\n",
    "print()"
   ]
  },
  {
   "cell_type": "code",
   "execution_count": null,
   "metadata": {},
   "outputs": [],
   "source": [
    "'''\n",
    "fig = px.scatter_geo(RYD, lat=RYD[\"lat\"] , lon=RYD[\"lon\"], text=RYD[\"location\"],\n",
    "                     color=RYD[\"price\"], size=RYD[\"space\"], \n",
    "                     projection=\"natural earth\",  color_continuous_scale=\"Viridis\",\n",
    "                     )\n",
    "\n",
    "fig.update_geos(fitbounds=\"locations\", visible=True)\n",
    "fig.update_layout(title='the prices and space of the Aqar',title_x=0.5,title_font=dict(size=24))\n",
    "fig.update_xaxes(title='latitude', title_font=dict(size=18))\n",
    "fig.update_yaxes(title='longitude', title_font=dict(size=18))\n",
    "fig.show()\n",
    "'''\n",
    "print()"
   ]
  },
  {
   "cell_type": "markdown",
   "metadata": {},
   "source": [
    "<img  src=\"Screenshot 2023-11-12 024719.png\" >"
   ]
  },
  {
   "cell_type": "code",
   "execution_count": null,
   "metadata": {},
   "outputs": [],
   "source": []
  }
 ],
 "metadata": {
  "kernelspec": {
   "display_name": "Python 3 (ipykernel)",
   "language": "python",
   "name": "python3"
  },
  "language_info": {
   "codemirror_mode": {
    "name": "ipython",
    "version": 3
   },
   "file_extension": ".py",
   "mimetype": "text/x-python",
   "name": "python",
   "nbconvert_exporter": "python",
   "pygments_lexer": "ipython3",
   "version": "3.9.12"
  }
 },
 "nbformat": 4,
 "nbformat_minor": 2
}
